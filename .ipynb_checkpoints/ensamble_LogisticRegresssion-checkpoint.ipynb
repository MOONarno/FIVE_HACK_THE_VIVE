{
 "cells": [
  {
   "cell_type": "code",
   "execution_count": 1,
   "id": "9a1276b3",
   "metadata": {},
   "outputs": [],
   "source": [
    "#Importing all the library\n",
    "import pandas as pd\n",
    "import numpy as np\n",
    "from matplotlib import pyplot as plt\n",
    "import tensorflow as tf\n",
    "from tensorflow import keras\n",
    "from tensorflow.keras import layers\n",
    "import seaborn as sns\n",
    "from scipy import stats\n",
    "from sklearn.model_selection import train_test_split\n",
    "from sklearn import preprocessing\n",
    "from sklearn.linear_model import LogisticRegression\n",
    "import pickle\n",
    "from sklearn.ensemble import RandomForestClassifier\n",
    "from sklearn.neighbors import KNeighborsClassifier\n",
    "from sklearn.metrics import precision_score, recall_score, f1_score\n",
    "from sklearn.metrics import confusion_matrix , classification_report"
   ]
  },
  {
   "cell_type": "code",
   "execution_count": 2,
   "id": "f43c9acf",
   "metadata": {},
   "outputs": [],
   "source": [
    "df_encoded = pd.read_csv('df_encoded.csv')"
   ]
  },
  {
   "cell_type": "code",
   "execution_count": 3,
   "id": "62bdb7d2",
   "metadata": {},
   "outputs": [],
   "source": [
    "df_true = df_encoded[df_encoded['not.fully.paid'] == 0]\n",
    "df_false = df_encoded[df_encoded['not.fully.paid'] == 1]"
   ]
  },
  {
   "cell_type": "code",
   "execution_count": 4,
   "id": "1d9510c2",
   "metadata": {},
   "outputs": [
    {
     "name": "stdout",
     "output_type": "stream",
     "text": [
      "(5635, 20)\n",
      "(924, 20)\n"
     ]
    }
   ],
   "source": [
    "print(df_true.shape)\n",
    "print(df_false.shape)"
   ]
  },
  {
   "cell_type": "code",
   "execution_count": 5,
   "id": "3006733c",
   "metadata": {},
   "outputs": [],
   "source": [
    "#Dividing into features and label \n",
    "y, X = df_encoded['not.fully.paid'], df_encoded.drop('not.fully.paid', axis = 'columns')"
   ]
  },
  {
   "cell_type": "code",
   "execution_count": 6,
   "id": "10a69329",
   "metadata": {},
   "outputs": [],
   "source": [
    "# Spliting into train data and test data \n",
    "X_train, X_test, y_train, y_test = train_test_split(X, y, test_size=0.2, random_state=15, stratify=y)"
   ]
  },
  {
   "cell_type": "code",
   "execution_count": 26,
   "id": "190a6b1d",
   "metadata": {
    "scrolled": true
   },
   "outputs": [
    {
     "data": {
      "text/plain": [
       "0    4508\n",
       "1     739\n",
       "Name: not.fully.paid, dtype: int64"
      ]
     },
     "execution_count": 26,
     "metadata": {},
     "output_type": "execute_result"
    }
   ],
   "source": [
    "y_train.value_counts()"
   ]
  },
  {
   "cell_type": "code",
   "execution_count": 8,
   "id": "316e743e",
   "metadata": {},
   "outputs": [],
   "source": [
    "# model1 --> class1(739) + class0(0, 739)\n",
    "\n",
    "# model2 --> class1(739) + class0(740, 1478)\n",
    "\n",
    "# model3 --> class1(739) + class0(1479, 2217)\n",
    "\n",
    "# model4 --> class1(739) + class0(2218, 2956)\n",
    "\n",
    "# model5 --> class1(739) + class0(2957, 3695)\n",
    "\n",
    "# model6 --> class1(739) + class0(3696, 4434)"
   ]
  },
  {
   "cell_type": "code",
   "execution_count": 9,
   "id": "d6bd59b4",
   "metadata": {},
   "outputs": [],
   "source": [
    "x = X_train.values #returns a numpy array\n",
    "min_max_scaler = preprocessing.MinMaxScaler()\n",
    "X_train_scaled = min_max_scaler.fit_transform(x)\n",
    "df_X_train_scaled = pd.DataFrame(X_train_scaled)"
   ]
  },
  {
   "cell_type": "code",
   "execution_count": 10,
   "id": "10a6245f",
   "metadata": {},
   "outputs": [],
   "source": [
    "#scaling the test data\n",
    "x = X_test.values #returns a numpy array\n",
    "min_max_scaler = preprocessing.MinMaxScaler()\n",
    "X_test_scaled = min_max_scaler.fit_transform(x)\n",
    "df_X_test_scaled = pd.DataFrame(X_test_scaled)"
   ]
  },
  {
   "cell_type": "code",
   "execution_count": 27,
   "id": "8ed26f30",
   "metadata": {},
   "outputs": [
    {
     "data": {
      "text/plain": [
       "0    4508\n",
       "1     739\n",
       "Name: not.fully.paid, dtype: int64"
      ]
     },
     "execution_count": 27,
     "metadata": {},
     "output_type": "execute_result"
    }
   ],
   "source": [
    "y_train.value_counts()"
   ]
  },
  {
   "cell_type": "code",
   "execution_count": 11,
   "id": "6aeacc4f",
   "metadata": {},
   "outputs": [],
   "source": [
    "df3 = df_X_train_scaled.copy()\n",
    "df3['not_fully_paid'] = y_train"
   ]
  },
  {
   "cell_type": "code",
   "execution_count": 12,
   "id": "d05a2884",
   "metadata": {
    "scrolled": true
   },
   "outputs": [
    {
     "data": {
      "text/html": [
       "<div>\n",
       "<style scoped>\n",
       "    .dataframe tbody tr th:only-of-type {\n",
       "        vertical-align: middle;\n",
       "    }\n",
       "\n",
       "    .dataframe tbody tr th {\n",
       "        vertical-align: top;\n",
       "    }\n",
       "\n",
       "    .dataframe thead th {\n",
       "        text-align: right;\n",
       "    }\n",
       "</style>\n",
       "<table border=\"1\" class=\"dataframe\">\n",
       "  <thead>\n",
       "    <tr style=\"text-align: right;\">\n",
       "      <th></th>\n",
       "      <th>0</th>\n",
       "      <th>1</th>\n",
       "      <th>2</th>\n",
       "      <th>3</th>\n",
       "      <th>4</th>\n",
       "      <th>5</th>\n",
       "      <th>6</th>\n",
       "      <th>7</th>\n",
       "      <th>8</th>\n",
       "      <th>9</th>\n",
       "      <th>10</th>\n",
       "      <th>11</th>\n",
       "      <th>12</th>\n",
       "      <th>13</th>\n",
       "      <th>14</th>\n",
       "      <th>15</th>\n",
       "      <th>16</th>\n",
       "      <th>17</th>\n",
       "      <th>18</th>\n",
       "      <th>not_fully_paid</th>\n",
       "    </tr>\n",
       "  </thead>\n",
       "  <tbody>\n",
       "    <tr>\n",
       "      <th>0</th>\n",
       "      <td>1.0</td>\n",
       "      <td>0.705716</td>\n",
       "      <td>0.541013</td>\n",
       "      <td>0.358999</td>\n",
       "      <td>0.496990</td>\n",
       "      <td>0.243902</td>\n",
       "      <td>0.228367</td>\n",
       "      <td>0.076424</td>\n",
       "      <td>0.504699</td>\n",
       "      <td>0.000</td>\n",
       "      <td>0.0</td>\n",
       "      <td>0.0</td>\n",
       "      <td>0.0</td>\n",
       "      <td>0.0</td>\n",
       "      <td>1.0</td>\n",
       "      <td>0.0</td>\n",
       "      <td>0.0</td>\n",
       "      <td>0.0</td>\n",
       "      <td>0.0</td>\n",
       "      <td>0.0</td>\n",
       "    </tr>\n",
       "    <tr>\n",
       "      <th>1</th>\n",
       "      <td>0.0</td>\n",
       "      <td>0.555399</td>\n",
       "      <td>0.506579</td>\n",
       "      <td>0.453180</td>\n",
       "      <td>0.858194</td>\n",
       "      <td>0.487805</td>\n",
       "      <td>0.395841</td>\n",
       "      <td>0.284403</td>\n",
       "      <td>0.460526</td>\n",
       "      <td>0.250</td>\n",
       "      <td>0.0</td>\n",
       "      <td>0.0</td>\n",
       "      <td>0.0</td>\n",
       "      <td>0.0</td>\n",
       "      <td>1.0</td>\n",
       "      <td>0.0</td>\n",
       "      <td>0.0</td>\n",
       "      <td>0.0</td>\n",
       "      <td>0.0</td>\n",
       "      <td>0.0</td>\n",
       "    </tr>\n",
       "    <tr>\n",
       "      <th>2</th>\n",
       "      <td>0.0</td>\n",
       "      <td>0.800282</td>\n",
       "      <td>0.614788</td>\n",
       "      <td>0.439329</td>\n",
       "      <td>0.549833</td>\n",
       "      <td>0.170732</td>\n",
       "      <td>0.142090</td>\n",
       "      <td>0.108216</td>\n",
       "      <td>0.864662</td>\n",
       "      <td>0.375</td>\n",
       "      <td>0.0</td>\n",
       "      <td>0.0</td>\n",
       "      <td>0.0</td>\n",
       "      <td>0.0</td>\n",
       "      <td>1.0</td>\n",
       "      <td>0.0</td>\n",
       "      <td>0.0</td>\n",
       "      <td>0.0</td>\n",
       "      <td>0.0</td>\n",
       "      <td>0.0</td>\n",
       "    </tr>\n",
       "    <tr>\n",
       "      <th>3</th>\n",
       "      <td>1.0</td>\n",
       "      <td>0.460833</td>\n",
       "      <td>0.351749</td>\n",
       "      <td>0.468028</td>\n",
       "      <td>0.112709</td>\n",
       "      <td>0.487805</td>\n",
       "      <td>0.206883</td>\n",
       "      <td>0.069514</td>\n",
       "      <td>0.296053</td>\n",
       "      <td>0.000</td>\n",
       "      <td>0.0</td>\n",
       "      <td>0.0</td>\n",
       "      <td>1.0</td>\n",
       "      <td>0.0</td>\n",
       "      <td>0.0</td>\n",
       "      <td>0.0</td>\n",
       "      <td>0.0</td>\n",
       "      <td>0.0</td>\n",
       "      <td>0.0</td>\n",
       "      <td>0.0</td>\n",
       "    </tr>\n",
       "    <tr>\n",
       "      <th>4</th>\n",
       "      <td>1.0</td>\n",
       "      <td>0.534227</td>\n",
       "      <td>0.102518</td>\n",
       "      <td>0.260121</td>\n",
       "      <td>0.585284</td>\n",
       "      <td>0.317073</td>\n",
       "      <td>0.210604</td>\n",
       "      <td>0.074933</td>\n",
       "      <td>0.810150</td>\n",
       "      <td>0.125</td>\n",
       "      <td>0.0</td>\n",
       "      <td>0.0</td>\n",
       "      <td>1.0</td>\n",
       "      <td>0.0</td>\n",
       "      <td>0.0</td>\n",
       "      <td>0.0</td>\n",
       "      <td>0.0</td>\n",
       "      <td>0.0</td>\n",
       "      <td>0.0</td>\n",
       "      <td>0.0</td>\n",
       "    </tr>\n",
       "  </tbody>\n",
       "</table>\n",
       "</div>"
      ],
      "text/plain": [
       "     0         1         2         3         4         5         6         7  \\\n",
       "0  1.0  0.705716  0.541013  0.358999  0.496990  0.243902  0.228367  0.076424   \n",
       "1  0.0  0.555399  0.506579  0.453180  0.858194  0.487805  0.395841  0.284403   \n",
       "2  0.0  0.800282  0.614788  0.439329  0.549833  0.170732  0.142090  0.108216   \n",
       "3  1.0  0.460833  0.351749  0.468028  0.112709  0.487805  0.206883  0.069514   \n",
       "4  1.0  0.534227  0.102518  0.260121  0.585284  0.317073  0.210604  0.074933   \n",
       "\n",
       "          8      9   10   11   12   13   14   15   16   17   18  \\\n",
       "0  0.504699  0.000  0.0  0.0  0.0  0.0  1.0  0.0  0.0  0.0  0.0   \n",
       "1  0.460526  0.250  0.0  0.0  0.0  0.0  1.0  0.0  0.0  0.0  0.0   \n",
       "2  0.864662  0.375  0.0  0.0  0.0  0.0  1.0  0.0  0.0  0.0  0.0   \n",
       "3  0.296053  0.000  0.0  0.0  1.0  0.0  0.0  0.0  0.0  0.0  0.0   \n",
       "4  0.810150  0.125  0.0  0.0  1.0  0.0  0.0  0.0  0.0  0.0  0.0   \n",
       "\n",
       "   not_fully_paid  \n",
       "0             0.0  \n",
       "1             0.0  \n",
       "2             0.0  \n",
       "3             0.0  \n",
       "4             0.0  "
      ]
     },
     "execution_count": 12,
     "metadata": {},
     "output_type": "execute_result"
    }
   ],
   "source": [
    "df3.head()"
   ]
  },
  {
   "cell_type": "markdown",
   "id": "3f322d96",
   "metadata": {},
   "source": [
    "### "
   ]
  },
  {
   "cell_type": "code",
   "execution_count": 13,
   "id": "8e1a57a8",
   "metadata": {},
   "outputs": [],
   "source": [
    "df3_class0 = df3[df3.not_fully_paid==0]\n",
    "df3_class1 = df3[df3.not_fully_paid==1]"
   ]
  },
  {
   "cell_type": "code",
   "execution_count": 25,
   "id": "d8af163f",
   "metadata": {},
   "outputs": [
    {
     "data": {
      "text/plain": [
       "(498, 20)"
      ]
     },
     "execution_count": 25,
     "metadata": {},
     "output_type": "execute_result"
    }
   ],
   "source": [
    "df3_class1.shape"
   ]
  },
  {
   "cell_type": "code",
   "execution_count": 14,
   "id": "8c4f5b8c",
   "metadata": {},
   "outputs": [],
   "source": [
    "def get_train_batch(df_majority, df_minority, start, end):\n",
    "    df_train = pd.concat([df_majority[start:end], df_minority], axis=0)\n",
    "\n",
    "    X_train = df_train.drop('not_fully_paid', axis='columns')\n",
    "    y_train = df_train.not_fully_paid\n",
    "    return X_train, y_train "
   ]
  },
  {
   "cell_type": "code",
   "execution_count": 15,
   "id": "c6a24d98",
   "metadata": {},
   "outputs": [
    {
     "data": {
      "text/plain": [
       "0.0    739\n",
       "1.0    498\n",
       "Name: not_fully_paid, dtype: int64"
      ]
     },
     "execution_count": 15,
     "metadata": {},
     "output_type": "execute_result"
    }
   ],
   "source": [
    "X_train1, y_train1 = get_train_batch(df3_class0, df3_class1, 0, 739)\n",
    "y_train1.value_counts()"
   ]
  },
  {
   "cell_type": "code",
   "execution_count": 16,
   "id": "1592e644",
   "metadata": {},
   "outputs": [],
   "source": [
    "X_train1, y_train1 = get_train_batch(df3_class0, df3_class1, 0, 739)\n",
    "modelLR = LogisticRegression()\n",
    "modelLR.fit(X_train1, y_train1)\n",
    "y_pred1 = modelLR.predict(df_X_test_scaled)"
   ]
  },
  {
   "cell_type": "code",
   "execution_count": 17,
   "id": "86a35f20",
   "metadata": {},
   "outputs": [],
   "source": [
    "X_train2, y_train2 = get_train_batch(df3_class0, df3_class1, 740, 1478)\n",
    "modelLR = LogisticRegression()\n",
    "modelLR.fit(X_train2, y_train2)\n",
    "y_pred2 = modelLR.predict(df_X_test_scaled)"
   ]
  },
  {
   "cell_type": "code",
   "execution_count": 18,
   "id": "972ecded",
   "metadata": {},
   "outputs": [],
   "source": [
    "X_train3, y_train3 = get_train_batch(df3_class0, df3_class1, 1479, 2217)\n",
    "modelLR = LogisticRegression()\n",
    "modelLR.fit(X_train3, y_train3)\n",
    "y_pred3 = modelLR.predict(df_X_test_scaled)"
   ]
  },
  {
   "cell_type": "code",
   "execution_count": 19,
   "id": "07c50c6e",
   "metadata": {},
   "outputs": [],
   "source": [
    "X_train4, y_train4 = get_train_batch(df3_class0, df3_class1, 2218, 2956)\n",
    "modelLR = LogisticRegression()\n",
    "modelLR.fit(X_train4, y_train4)\n",
    "y_pred4 = modelLR.predict(df_X_test_scaled)"
   ]
  },
  {
   "cell_type": "code",
   "execution_count": 20,
   "id": "710beade",
   "metadata": {},
   "outputs": [],
   "source": [
    "X_train5, y_train5 = get_train_batch(df3_class0, df3_class1, 2957, 3695)\n",
    "modelLR = LogisticRegression()\n",
    "modelLR.fit(X_train5, y_train5)\n",
    "y_pred5 = modelLR.predict(df_X_test_scaled)"
   ]
  },
  {
   "cell_type": "code",
   "execution_count": 21,
   "id": "7a4f714c",
   "metadata": {},
   "outputs": [],
   "source": [
    "# X_train6, y_train6 = get_train_batch(df3_class0, df3_class1, 3696, 4434)\n",
    "# modelLR = LogisticRegression()\n",
    "# modelLR.fit(X_train6, y_train6)\n",
    "# y_pred6 = modelLR.predict(df_X_test_scaled)"
   ]
  },
  {
   "cell_type": "code",
   "execution_count": 22,
   "id": "6fdcd399",
   "metadata": {},
   "outputs": [],
   "source": [
    "y_pred_final = y_pred1.copy()\n",
    "for i in range(len(y_pred1)):\n",
    "    n_ones = y_pred1[i] + y_pred2[i] + y_pred3[i] + y_pred4[i] + y_pred5[i]\n",
    "    if n_ones>2:\n",
    "        y_pred_final[i] = 1\n",
    "    else:\n",
    "        y_pred_final[i] = 0"
   ]
  },
  {
   "cell_type": "code",
   "execution_count": 23,
   "id": "58ab0e35",
   "metadata": {},
   "outputs": [
    {
     "name": "stdout",
     "output_type": "stream",
     "text": [
      "Ensamble_logistic: \n",
      "               precision    recall  f1-score   support\n",
      "\n",
      "           0       0.86      1.00      0.92      1127\n",
      "           1       0.17      0.01      0.01       185\n",
      "\n",
      "    accuracy                           0.86      1312\n",
      "   macro avg       0.51      0.50      0.47      1312\n",
      "weighted avg       0.76      0.86      0.79      1312\n",
      "\n"
     ]
    }
   ],
   "source": [
    "cl_rep = classification_report(y_test, y_pred_final)\n",
    "print(\"Ensamble_logistic: \\n\", cl_rep)"
   ]
  },
  {
   "cell_type": "code",
   "execution_count": null,
   "id": "70ee8911",
   "metadata": {},
   "outputs": [],
   "source": []
  }
 ],
 "metadata": {
  "kernelspec": {
   "display_name": "Python 3 (ipykernel)",
   "language": "python",
   "name": "python3"
  },
  "language_info": {
   "codemirror_mode": {
    "name": "ipython",
    "version": 3
   },
   "file_extension": ".py",
   "mimetype": "text/x-python",
   "name": "python",
   "nbconvert_exporter": "python",
   "pygments_lexer": "ipython3",
   "version": "3.9.12"
  }
 },
 "nbformat": 4,
 "nbformat_minor": 5
}
